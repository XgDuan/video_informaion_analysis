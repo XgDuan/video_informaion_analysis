{
 "cells": [
  {
   "cell_type": "code",
   "execution_count": 109,
   "metadata": {
    "collapsed": true
   },
   "outputs": [],
   "source": [
    "import pandas as pd\n",
    "from urllib.parse import urlparse\n",
    "import re\n",
    "import copy\n",
    "\n",
    "import matplotlib.pyplot as plt\n",
    "import seaborn as sns\n",
    "import numpy as np\n",
    "\n",
    "%matplotlib inline"
   ]
  },
  {
   "cell_type": "markdown",
   "metadata": {},
   "source": [
    "## 数据读入，url简单处理"
   ]
  },
  {
   "cell_type": "code",
   "execution_count": 90,
   "metadata": {},
   "outputs": [
    {
     "name": "stdout",
     "output_type": "stream",
     "text": [
      "raw data: 1874249\n"
     ]
    }
   ],
   "source": [
    "data = pd.read_csv('raw_data.txt',sep='\\t', header=None,names=['url','raw_time'],dtype={'url':str,'raw_time':str})\n",
    "data.insert(2,'time',data.raw_time.apply(lambda x: pd.to_datetime(x,format='%Y%m%d%H%M%S')))\n",
    "data.pop('raw_time')\n",
    "print('raw data:',len(data))"
   ]
  },
  {
   "cell_type": "code",
   "execution_count": 91,
   "metadata": {
    "collapsed": true
   },
   "outputs": [],
   "source": [
    "test = copy.deepcopy(data.iloc[1:1000])\n",
    "def url_parse(df):\n",
    "    df['scheme'],df['domain'],df['path'],df['params'],df['query1'],df['fragment'] = zip(*df['url'].map(urlparse))\n",
    "\n",
    "url_parse(data)\n",
    "url_parse(test)\n",
    "\n",
    "data['secondary_domain'] = data.domain.apply(lambda x: '.'.join(x.split('.')[-2:]))"
   ]
  },
  {
   "cell_type": "markdown",
   "metadata": {},
   "source": [
    "## 数据展示"
   ]
  },
  {
   "cell_type": "code",
   "execution_count": 71,
   "metadata": {},
   "outputs": [
    {
     "data": {
      "text/html": [
       "<div>\n",
       "<table border=\"1\" class=\"dataframe\">\n",
       "  <thead>\n",
       "    <tr style=\"text-align: right;\">\n",
       "      <th></th>\n",
       "      <th>url</th>\n",
       "      <th>time</th>\n",
       "      <th>scheme</th>\n",
       "      <th>domain</th>\n",
       "      <th>path</th>\n",
       "      <th>params</th>\n",
       "      <th>query1</th>\n",
       "      <th>fragment</th>\n",
       "      <th>secondary_domain</th>\n",
       "    </tr>\n",
       "  </thead>\n",
       "  <tbody>\n",
       "    <tr>\n",
       "      <th>0</th>\n",
       "      <td>http://0.dximscreenshot2.yy.yystatic.com/upl_7...</td>\n",
       "      <td>2016-10-10 21:23:12</td>\n",
       "      <td>http</td>\n",
       "      <td>0.dximscreenshot2.yy.yystatic.com</td>\n",
       "      <td>/upl_7b/1e/62/51166-108ecf0364f7382787d18d1462...</td>\n",
       "      <td></td>\n",
       "      <td></td>\n",
       "      <td></td>\n",
       "      <td>yystatic.com</td>\n",
       "    </tr>\n",
       "    <tr>\n",
       "      <th>1</th>\n",
       "      <td>http://1.dximscreenshot8.yy.yystatic.com/upl_1...</td>\n",
       "      <td>2016-10-10 00:17:51</td>\n",
       "      <td>http</td>\n",
       "      <td>1.dximscreenshot8.yy.yystatic.com</td>\n",
       "      <td>/upl_1b/1c/9b/4655-0e1c6ebc0b2c60d5188fd2e79b1...</td>\n",
       "      <td></td>\n",
       "      <td></td>\n",
       "      <td></td>\n",
       "      <td>yystatic.com</td>\n",
       "    </tr>\n",
       "    <tr>\n",
       "      <th>2</th>\n",
       "      <td>http://2.dximscreenshot3.yy.duowan.com/upl_AA/...</td>\n",
       "      <td>2016-10-10 21:30:03</td>\n",
       "      <td>http</td>\n",
       "      <td>2.dximscreenshot3.yy.duowan.com</td>\n",
       "      <td>/upl_AA/AA/AA/66611-b9e17892d28037f3b6f0aa052a...</td>\n",
       "      <td></td>\n",
       "      <td></td>\n",
       "      <td></td>\n",
       "      <td>duowan.com</td>\n",
       "    </tr>\n",
       "    <tr>\n",
       "      <th>3</th>\n",
       "      <td>http://2.dximscreenshot5.yy.yystatic.com/upl_f...</td>\n",
       "      <td>2016-10-10 00:31:40</td>\n",
       "      <td>http</td>\n",
       "      <td>2.dximscreenshot5.yy.yystatic.com</td>\n",
       "      <td>/upl_f4/ba/59/112563-468ae11378dc58e9e10ca5215...</td>\n",
       "      <td></td>\n",
       "      <td></td>\n",
       "      <td></td>\n",
       "      <td>yystatic.com</td>\n",
       "    </tr>\n",
       "    <tr>\n",
       "      <th>4</th>\n",
       "      <td>http://2.dximscreenshot5.yy.yystatic.com/upl_f...</td>\n",
       "      <td>2016-10-10 00:46:20</td>\n",
       "      <td>http</td>\n",
       "      <td>2.dximscreenshot5.yy.yystatic.com</td>\n",
       "      <td>/upl_f4/ba/59/112563-468ae11378dc58e9e10ca5215...</td>\n",
       "      <td></td>\n",
       "      <td></td>\n",
       "      <td></td>\n",
       "      <td>yystatic.com</td>\n",
       "    </tr>\n",
       "  </tbody>\n",
       "</table>\n",
       "</div>"
      ],
      "text/plain": [
       "                                                 url                time  \\\n",
       "0  http://0.dximscreenshot2.yy.yystatic.com/upl_7... 2016-10-10 21:23:12   \n",
       "1  http://1.dximscreenshot8.yy.yystatic.com/upl_1... 2016-10-10 00:17:51   \n",
       "2  http://2.dximscreenshot3.yy.duowan.com/upl_AA/... 2016-10-10 21:30:03   \n",
       "3  http://2.dximscreenshot5.yy.yystatic.com/upl_f... 2016-10-10 00:31:40   \n",
       "4  http://2.dximscreenshot5.yy.yystatic.com/upl_f... 2016-10-10 00:46:20   \n",
       "\n",
       "  scheme                             domain  \\\n",
       "0   http  0.dximscreenshot2.yy.yystatic.com   \n",
       "1   http  1.dximscreenshot8.yy.yystatic.com   \n",
       "2   http    2.dximscreenshot3.yy.duowan.com   \n",
       "3   http  2.dximscreenshot5.yy.yystatic.com   \n",
       "4   http  2.dximscreenshot5.yy.yystatic.com   \n",
       "\n",
       "                                                path params query1 fragment  \\\n",
       "0  /upl_7b/1e/62/51166-108ecf0364f7382787d18d1462...                          \n",
       "1  /upl_1b/1c/9b/4655-0e1c6ebc0b2c60d5188fd2e79b1...                          \n",
       "2  /upl_AA/AA/AA/66611-b9e17892d28037f3b6f0aa052a...                          \n",
       "3  /upl_f4/ba/59/112563-468ae11378dc58e9e10ca5215...                          \n",
       "4  /upl_f4/ba/59/112563-468ae11378dc58e9e10ca5215...                          \n",
       "\n",
       "  secondary_domain  \n",
       "0     yystatic.com  \n",
       "1     yystatic.com  \n",
       "2       duowan.com  \n",
       "3     yystatic.com  \n",
       "4     yystatic.com  "
      ]
     },
     "execution_count": 71,
     "metadata": {},
     "output_type": "execute_result"
    }
   ],
   "source": [
    "data.head()"
   ]
  },
  {
   "cell_type": "markdown",
   "metadata": {},
   "source": [
    "## 所有访问记录按照二级域名分类，并展示访问量最高的10个网站"
   ]
  },
  {
   "cell_type": "code",
   "execution_count": 95,
   "metadata": {},
   "outputs": [
    {
     "name": "stderr",
     "output_type": "stream",
     "text": [
      "/usr/local/lib/python3.5/dist-packages/matplotlib/font_manager.py:1297: UserWarning: findfont: Font family ['sans-serif'] not found. Falling back to DejaVu Sans\n",
      "  (prop.get_family(), self.defaultFamily[fontext]))\n"
     ]
    },
    {
     "data": {
      "image/png": "[encoded data removed]",
      "text/plain": [
       "<matplotlib.figure.Figure at 0x7fe8dfbc7d30>"
      ]
     },
     "metadata": {},
     "output_type": "display_data"
    }
   ],
   "source": [
    "# data_plt = data.groupby('secondary_domain').count()\n",
    "dts = data_plt.sort_values(by='url',ascending=False).iloc[:10]\n",
    "\n",
    "plt.figure(figsize=(15,7))\n",
    "sns.barplot(x = dts.index,y=dts.url)\n",
    "plt.xlabel('video website')\n",
    "plt.ylabel('page view')\n",
    "plt.savefig('img/raw_top10.jpg')\n",
    "plt.title('page view top 10 website')\n",
    "plt.show()"
   ]
  },
  {
   "cell_type": "markdown",
   "metadata": {},
   "source": [
    "## 数据清洗，筛选去除js,css,img,swf"
   ]
  },
  {
   "cell_type": "code",
   "execution_count": 96,
   "metadata": {},
   "outputs": [
    {
     "name": "stdout",
     "output_type": "stream",
     "text": [
      "before: 1874249\n",
      "after: 1143725\n"
     ]
    }
   ],
   "source": [
    "def data_filter(df):\n",
    "    df['valid'] = df.path.apply(lambda x :('.js' not in x) &\n",
    "                                    ('.jpg' not in x) &\n",
    "                                    ('favicon.ico' not in x) & \n",
    "                                    ('.css' not in x)  & \n",
    "                                    ('.png' not in x)  &\n",
    "                                    ('.jpeg' not in x) &\n",
    "                                    ('.mp3' not in x)  &\n",
    "                                    ('.gif' not in x)  &\n",
    "                                    ('.png' not in x)  &\n",
    "                                    ('.inc' not in x)  &\n",
    "                                    ('.swf' not in x)  &  # swf \\approx flash \n",
    "                                    ('' != x) &\n",
    "                                    ('/' != x))\n",
    "    return df.loc[df.valid]\n",
    "test = data_filter(test)\n",
    "\n",
    "print('before:',len(data)) # 1874249 +\n",
    "data = data_filter(data)\n",
    "print('after:',len(data)) # 1144170"
   ]
  },
  {
   "cell_type": "code",
   "execution_count": 97,
   "metadata": {},
   "outputs": [
    {
     "name": "stderr",
     "output_type": "stream",
     "text": [
      "/usr/local/lib/python3.5/dist-packages/matplotlib/font_manager.py:1297: UserWarning: findfont: Font family ['sans-serif'] not found. Falling back to DejaVu Sans\n",
      "  (prop.get_family(), self.defaultFamily[fontext]))\n"
     ]
    },
    {
     "data": {
      "image/png": "[encoded data removed]",
      "text/plain": [
       "<matplotlib.figure.Figure at 0x7fe8e1503630>"
      ]
     },
     "metadata": {},
     "output_type": "display_data"
    }
   ],
   "source": [
    "data_plt = data.groupby('secondary_domain').count()\n",
    "dts = data_plt.sort_values(by='url',ascending=False).iloc[:10]\n",
    "\n",
    "plt.figure(figsize=(15,7))\n",
    "sns.barplot(x = dts.index,y=dts.url)\n",
    "plt.xlabel('video website')\n",
    "plt.ylabel('page view')\n",
    "plt.title('page view top 10(filtrated)')\n",
    "plt.savefig('filtrated_top10.jpg')\n",
    "plt.show()"
   ]
  },
  {
   "cell_type": "markdown",
   "metadata": {},
   "source": [
    "## 用户访问时间分析"
   ]
  },
  {
   "cell_type": "code",
   "execution_count": 130,
   "metadata": {},
   "outputs": [
    {
     "name": "stdout",
     "output_type": "stream",
     "text": [
      "iqiyi: 1029759\n",
      "bilibili: 22071\n",
      "youku: 419403\n",
      "yy: 61599\n"
     ]
    }
   ],
   "source": [
    "# iqiyi = data.loc[data.secondary_domain == 'iqiyi.com']\n",
    "# bilibili = data.loc[data.secondary_domain == 'bilibili.com']\n",
    "# youku = data.loc[data.secondary_domain == 'youku.com']\n",
    "# yy =  data.loc[(data.secondary_domain =='yy.com') | (data.secondary_domain == 'yystatic.com')]\n",
    "valid_domain = set(['youku.com','acfun.cn','miaopai.com','iqiyi.com','meelive.tv','baofeng.net','inke.cn','acfun.tv',\n",
    "                    'yy.com','inke.com','meelive.cn','inke.tv', 'baofeng.com', 'bilibili.cn',\n",
    "                   'douyutv.com','letv.com','yystatic.com','bilibili.com'])\n",
    "\n",
    "\n",
    "\n",
    "iqiyi = data.loc[data.secondary_domain.isin(['youku.com','iqiyi.com','letv.com','baofeng.com'])]\n",
    "bilibili = data.loc[data.secondary_domain.isin(['bilibili.com','acfun.cn','acfun.tv'])]\n",
    "# youku = data.loc[data.secondary_domain == 'youku.com']\n",
    "yy =  data.loc[data.secondary_domain.isin(['miaopai.com','inke.cn','yy.com','inke.com','meelive.cn','meelive.tv','inke.tv','douyutc.com','yystatic.com'])]\n",
    "\n",
    "\n",
    "print('iqiyi:',len(iqiyi))\n",
    "print('bilibili:',len(bilibili))\n",
    "print('youku:',len(youku))\n",
    "print('yy:',len(yy))"
   ]
  },
  {
   "cell_type": "code",
   "execution_count": 131,
   "metadata": {},
   "outputs": [],
   "source": [
    "def get_minute(x):\n",
    "    return ((x - pd.datetime(1990,1,1)).total_seconds())%(60*60*24) / 60\n",
    "\n",
    "time_iqiyi = iqiyi.time.apply(get_minute)\n",
    "time_bilibili = bilibili.time.apply(get_minute)\n",
    "# time_youku = youku.time.apply(get_minute)\n",
    "time_yy = yy.time.apply(get_minute)"
   ]
  },
  {
   "cell_type": "code",
   "execution_count": 134,
   "metadata": {},
   "outputs": [
    {
     "name": "stderr",
     "output_type": "stream",
     "text": [
      "/usr/local/lib/python3.5/dist-packages/matplotlib/font_manager.py:1297: UserWarning: findfont: Font family ['sans-serif'] not found. Falling back to DejaVu Sans\n",
      "  (prop.get_family(), self.defaultFamily[fontext]))\n"
     ]
    },
    {
     "data": {
      "image/png": "[encoded data removed]",
      "text/plain": [
       "<matplotlib.figure.Figure at 0x7fe9433df7f0>"
      ]
     },
     "metadata": {},
     "output_type": "display_data"
    }
   ],
   "source": [
    "plt.figure(figsize=(15,7))\n",
    "sns.kdeplot(time_iqiyi,shade=True,label = 'classic')\n",
    "# sns.kdeplot(time_youku,shade=True,label = 'youku')\n",
    "sns.kdeplot(time_yy,shade=True,label = 'live')\n",
    "sns.kdeplot(time_bilibili,shade=True,label = 'origion')\n",
    "plt.xlabel('time /s')\n",
    "plt.title('when you would like to watch video')\n",
    "plt.savefig('visit_time.jpg')\n",
    "plt.show()"
   ]
  },
  {
   "cell_type": "code",
   "execution_count": 129,
   "metadata": {},
   "outputs": [
    {
     "data": {
      "text/plain": [
       "array(['api.busi.inke.com', 'app.inke.com', 'image.scale.inke.com',\n",
       "       'maidian.inke.com', 'media01.inke.com', 'media02.inke.com',\n",
       "       'payment.service.inke.com', 'service.inke.com',\n",
       "       'serviceinfo.inke.com', 'upload.inke.com', 'v.inke.com',\n",
       "       'web.service.inke.com', 'webapi.busi.inke.com'], dtype=object)"
      ]
     },
     "execution_count": 129,
     "metadata": {},
     "output_type": "execute_result"
    }
   ],
   "source": [
    "inke = data.loc[data.secondary_domain =='inke.com']\n",
    "# inke.head(100)\n",
    "inke.domain.unique()"
   ]
  },
  {
   "cell_type": "code",
   "execution_count": 128,
   "metadata": {},
   "outputs": [
    {
     "data": {
      "text/plain": [
       "'http://image.scale.inke.com/imageproxy2/dimgm/scaleImage?url=&w=100&h=100&s=80&c=0&o=0'"
      ]
     },
     "execution_count": 128,
     "metadata": {},
     "output_type": "execute_result"
    }
   ],
   "source": [
    "inke.loc[567125].url"
   ]
  },
  {
   "cell_type": "markdown",
   "metadata": {},
   "source": [
    "## 仅保留二级域名在`valid_domain`列表中的访问请求"
   ]
  },
  {
   "cell_type": "code",
   "execution_count": 76,
   "metadata": {},
   "outputs": [
    {
     "name": "stdout",
     "output_type": "stream",
     "text": [
      "52\n",
      "{'ylsw.net', 'anquanxia.com', '66liuxue.com', 'letv.cn', 'douyucdn.cn', 'yinyuetai.com', 'muzhiwan.com', 'sogou.com', 'mobygame.cn', 'miaozhen.com', 'bilibili.cn', 'youku.com', '9izuche.cn', 'hiido.cn', '51tv.com', 'onez.cn', 'irs01.com', 'yy.com', 'renmaihui123.com', 'teyali.com', 'yystatic.com', 'inke.cn', 'com.cn', 'golive-tv.com', 'xunwan.com', '517na.com', 'duoduotv.com', 'v-888.com', 'bilibili.com', 'miaopai.com', '727613.pw', 'baofeng.com', 'letv.com', 'acfun.tv', 'duowan.com', 'meelive.cn', 'inke.tv', 'meelive.tv', 'iqiyi.com', 'inke.com', 'hiido.com', 'online-downloader.com', 'acfun.cn', 'baofeng.net', '3dcq.com', 'xjistedu.cn', 'guangyv.com', 'qcloudcdn.com', 'idaddy.cn', 'douyutv.com', 'gugeanzhuangqi.com', '866868.com'}\n",
      "-------\n",
      "valid_domain 19\n"
     ]
    }
   ],
   "source": [
    "domain = data.domain.apply(lambda x: '.'.join(x.split('.')[-2:])).unique()\n",
    "domain = set(map(lambda x: x.split(':')[0],domain))\n",
    "print(len(domain))\n",
    "print(domain)\n",
    "print('-------')\n",
    "valid_domain = set(['youku.com','acfun.cn','miaopai.com','iqiyi.com','meelive.tv','baofeng.net','inke.cn','acfun.tv',\n",
    "                    'yy.com','inke.com','meelive.cn','inke.tv','http://www.yinyuetai.com/', 'baofeng.com', 'bilibili.cn',\n",
    "                   'douyutv.com','letv.com','yystatic.com','bilibili.com'])\n",
    "\n",
    "print('valid_domain',len(valid_domain))\n",
    "\n",
    "data = data.loc[data.secondary_domain.isin(valid_domain)]"
   ]
  },
  {
   "cell_type": "code",
   "execution_count": 77,
   "metadata": {},
   "outputs": [
    {
     "name": "stderr",
     "output_type": "stream",
     "text": [
      "/usr/local/lib/python3.5/dist-packages/matplotlib/font_manager.py:1297: UserWarning: findfont: Font family ['sans-serif'] not found. Falling back to DejaVu Sans\n",
      "  (prop.get_family(), self.defaultFamily[fontext]))\n"
     ]
    },
    {
     "data": {
      "image/png": "[encoded data removed]",
      "text/plain": [
       "<matplotlib.figure.Figure at 0x7fe8fe5bbf60>"
      ]
     },
     "metadata": {},
     "output_type": "display_data"
    }
   ],
   "source": [
    "data_plt = data.groupby('secondary_domain').count()\n",
    "dts = data_plt.sort_values(by='url',ascending=False).iloc[:10]\n",
    "\n",
    "plt.figure(figsize=(15,7))\n",
    "sns.barplot(x = dts.index,y=dts.url)\n",
    "plt.xlabel('video website')\n",
    "plt.ylabel('page view')\n",
    "plt.savefig('img/valid_top10.jpg')\n",
    "plt.show()"
   ]
  },
  {
   "cell_type": "code",
   "execution_count": 78,
   "metadata": {
    "collapsed": true
   },
   "outputs": [],
   "source": [
    "# i = len(data.loc[data.secondary_domain =='iqiyi.com'])\n",
    "# b = len(data.loc[data.secondary_domain =='bilibili.com'])\n",
    "# y = len(data.loc[data.secondary_domain =='youku.com'])\n",
    "# o = len(data) - i - b - y\n",
    "# plt.figure(figsize=(10,10))\n",
    "# plt.pie(x=[i,b,y,o],labels=['iqiyi','bilibili','youku','others'])\n",
    "# plt.savefig('valid_distribute.jpg')\n",
    "# plt.show()"
   ]
  },
  {
   "cell_type": "code",
   "execution_count": 41,
   "metadata": {},
   "outputs": [
    {
     "name": "stdout",
     "output_type": "stream",
     "text": [
      "data filtrated: 1123314\n"
     ]
    }
   ],
   "source": [
    "print('data filtrated:',len(data))"
   ]
  },
  {
   "cell_type": "markdown",
   "metadata": {},
   "source": [
    "# 提取所需要三家视频网站的访问记录"
   ]
  },
  {
   "cell_type": "markdown",
   "metadata": {},
   "source": [
    "## Bilibili information"
   ]
  },
  {
   "cell_type": "code",
   "execution_count": 52,
   "metadata": {},
   "outputs": [
    {
     "name": "stdout",
     "output_type": "stream",
     "text": [
      "total: 26\n"
     ]
    }
   ],
   "source": [
    "bilibili = data.loc[(data.domain.apply(lambda x: x.split('.')[-2] == 'bilibili'))]\n",
    "print('total:',len(bilibili.groupby('domain').count()))"
   ]
  },
  {
   "cell_type": "code",
   "execution_count": 53,
   "metadata": {},
   "outputs": [
    {
     "data": {
      "text/html": [
       "<div>\n",
       "<table border=\"1\" class=\"dataframe\">\n",
       "  <thead>\n",
       "    <tr style=\"text-align: right;\">\n",
       "      <th></th>\n",
       "      <th>url</th>\n",
       "      <th>time</th>\n",
       "      <th>scheme</th>\n",
       "      <th>path</th>\n",
       "      <th>params</th>\n",
       "      <th>query1</th>\n",
       "      <th>fragment</th>\n",
       "      <th>secondary_domain</th>\n",
       "      <th>valid</th>\n",
       "    </tr>\n",
       "    <tr>\n",
       "      <th>domain</th>\n",
       "      <th></th>\n",
       "      <th></th>\n",
       "      <th></th>\n",
       "      <th></th>\n",
       "      <th></th>\n",
       "      <th></th>\n",
       "      <th></th>\n",
       "      <th></th>\n",
       "      <th></th>\n",
       "    </tr>\n",
       "  </thead>\n",
       "  <tbody>\n",
       "    <tr>\n",
       "      <th>api.bilibili.com</th>\n",
       "      <td>7495</td>\n",
       "      <td>7495</td>\n",
       "      <td>7495</td>\n",
       "      <td>7495</td>\n",
       "      <td>7495</td>\n",
       "      <td>7495</td>\n",
       "      <td>7495</td>\n",
       "      <td>7495</td>\n",
       "      <td>7495</td>\n",
       "    </tr>\n",
       "    <tr>\n",
       "      <th>app.bilibili.com</th>\n",
       "      <td>5585</td>\n",
       "      <td>5585</td>\n",
       "      <td>5585</td>\n",
       "      <td>5585</td>\n",
       "      <td>5585</td>\n",
       "      <td>5585</td>\n",
       "      <td>5585</td>\n",
       "      <td>5585</td>\n",
       "      <td>5585</td>\n",
       "    </tr>\n",
       "    <tr>\n",
       "      <th>data.bilibili.com</th>\n",
       "      <td>3514</td>\n",
       "      <td>3514</td>\n",
       "      <td>3514</td>\n",
       "      <td>3514</td>\n",
       "      <td>3514</td>\n",
       "      <td>3514</td>\n",
       "      <td>3514</td>\n",
       "      <td>3514</td>\n",
       "      <td>3514</td>\n",
       "    </tr>\n",
       "    <tr>\n",
       "      <th>message.bilibili.com</th>\n",
       "      <td>1492</td>\n",
       "      <td>1492</td>\n",
       "      <td>1492</td>\n",
       "      <td>1492</td>\n",
       "      <td>1492</td>\n",
       "      <td>1492</td>\n",
       "      <td>1492</td>\n",
       "      <td>1492</td>\n",
       "      <td>1492</td>\n",
       "    </tr>\n",
       "    <tr>\n",
       "      <th>live.bilibili.com</th>\n",
       "      <td>1397</td>\n",
       "      <td>1397</td>\n",
       "      <td>1397</td>\n",
       "      <td>1397</td>\n",
       "      <td>1397</td>\n",
       "      <td>1397</td>\n",
       "      <td>1397</td>\n",
       "      <td>1397</td>\n",
       "      <td>1397</td>\n",
       "    </tr>\n",
       "  </tbody>\n",
       "</table>\n",
       "</div>"
      ],
      "text/plain": [
       "                       url  time  scheme  path  params  query1  fragment  \\\n",
       "domain                                                                     \n",
       "api.bilibili.com      7495  7495    7495  7495    7495    7495      7495   \n",
       "app.bilibili.com      5585  5585    5585  5585    5585    5585      5585   \n",
       "data.bilibili.com     3514  3514    3514  3514    3514    3514      3514   \n",
       "message.bilibili.com  1492  1492    1492  1492    1492    1492      1492   \n",
       "live.bilibili.com     1397  1397    1397  1397    1397    1397      1397   \n",
       "\n",
       "                      secondary_domain  valid  \n",
       "domain                                         \n",
       "api.bilibili.com                  7495   7495  \n",
       "app.bilibili.com                  5585   5585  \n",
       "data.bilibili.com                 3514   3514  \n",
       "message.bilibili.com              1492   1492  \n",
       "live.bilibili.com                 1397   1397  "
      ]
     },
     "execution_count": 53,
     "metadata": {},
     "output_type": "execute_result"
    }
   ],
   "source": [
    "bilibili.groupby('domain').count().sort_values('url',ascending=False).head(5)"
   ]
  },
  {
   "cell_type": "markdown",
   "metadata": {},
   "source": [
    "### 人工对属于bilibili的所有域名进行筛选后，对相关信息进行保存"
   ]
  },
  {
   "cell_type": "code",
   "execution_count": 60,
   "metadata": {},
   "outputs": [
    {
     "name": "stdout",
     "output_type": "stream",
     "text": [
      "total: 21735\n",
      "video1: 104\n",
      "video2: 2\n",
      "valid id: 64\n"
     ]
    }
   ],
   "source": [
    "# ----------------valid -------------\n",
    "# http://bangumi.bilibili.com/ 番剧，只有两条记录，舍弃\n",
    "# live.bilibili.com ignore\n",
    "# www.bilibili.com 主页\n",
    "\n",
    "bilibili_video = bilibili.loc[(bilibili.path.apply(lambda x : True if re.match(r'[\\w\\W]+av\\d{6,}',x) is not None else False))]\n",
    "bilibili_video2 = bilibili.loc[(bilibili.path.apply(lambda x : True if re.match(r'/anime/v/\\d{5,}',x) is not None else False))]\n",
    "\n",
    "\n",
    "print('total:',len(bilibili))\n",
    "print('video1:',len(bilibili_video))\n",
    "print('video2:',len(bilibili_video2))\n",
    "\n",
    "aid = set(bilibili_video.path.apply(lambda x: re.findall(r'(?<=av)\\d{6,}',x)[0]))\n",
    "\n",
    "bilibili_video  =copy.deepcopy(bilibili_video)\n",
    "bilibili_video['aid'] = bilibili_video.path.apply(lambda x: re.findall(r'(?<=av)\\d{6,}',x)[0])\n",
    "\n",
    "\n",
    "\n",
    "bilibili_video.loc[:,['aid','path','time']].to_csv('bilibili_aid.csv',index=False,header=None)\n",
    "print('valid id:',len(aid))\n",
    "with open('bilibili_unique_aid.txt','w') as F:\n",
    "    for item in aid:\n",
    "        F.write(item+'\\n')"
   ]
  },
  {
   "cell_type": "markdown",
   "metadata": {
    "collapsed": true
   },
   "source": [
    "## Youku information"
   ]
  },
  {
   "cell_type": "code",
   "execution_count": 54,
   "metadata": {},
   "outputs": [
    {
     "name": "stdout",
     "output_type": "stream",
     "text": [
      "total: 201\n"
     ]
    }
   ],
   "source": [
    "youku = data.loc[(data.domain.apply(lambda x: x.split('.')[-2] == 'youku'))]\n",
    "print('total:',len(youku.groupby('domain').count()))"
   ]
  },
  {
   "cell_type": "code",
   "execution_count": 55,
   "metadata": {},
   "outputs": [
    {
     "data": {
      "text/html": [
       "<div>\n",
       "<table border=\"1\" class=\"dataframe\">\n",
       "  <thead>\n",
       "    <tr style=\"text-align: right;\">\n",
       "      <th></th>\n",
       "      <th>url</th>\n",
       "      <th>time</th>\n",
       "      <th>scheme</th>\n",
       "      <th>path</th>\n",
       "      <th>params</th>\n",
       "      <th>query1</th>\n",
       "      <th>fragment</th>\n",
       "      <th>secondary_domain</th>\n",
       "      <th>valid</th>\n",
       "    </tr>\n",
       "    <tr>\n",
       "      <th>domain</th>\n",
       "      <th></th>\n",
       "      <th></th>\n",
       "      <th></th>\n",
       "      <th></th>\n",
       "      <th></th>\n",
       "      <th></th>\n",
       "      <th></th>\n",
       "      <th></th>\n",
       "      <th></th>\n",
       "    </tr>\n",
       "  </thead>\n",
       "  <tbody>\n",
       "    <tr>\n",
       "      <th>statis.api.3g.youku.com</th>\n",
       "      <td>112187</td>\n",
       "      <td>112187</td>\n",
       "      <td>112187</td>\n",
       "      <td>112187</td>\n",
       "      <td>112187</td>\n",
       "      <td>112187</td>\n",
       "      <td>112187</td>\n",
       "      <td>112187</td>\n",
       "      <td>112187</td>\n",
       "    </tr>\n",
       "    <tr>\n",
       "      <th>api.mobile.youku.com</th>\n",
       "      <td>85089</td>\n",
       "      <td>85089</td>\n",
       "      <td>85089</td>\n",
       "      <td>85089</td>\n",
       "      <td>85089</td>\n",
       "      <td>85089</td>\n",
       "      <td>85089</td>\n",
       "      <td>85089</td>\n",
       "      <td>85089</td>\n",
       "    </tr>\n",
       "    <tr>\n",
       "      <th>k.youku.com</th>\n",
       "      <td>28238</td>\n",
       "      <td>28238</td>\n",
       "      <td>28238</td>\n",
       "      <td>28238</td>\n",
       "      <td>28238</td>\n",
       "      <td>28238</td>\n",
       "      <td>28238</td>\n",
       "      <td>28238</td>\n",
       "      <td>28238</td>\n",
       "    </tr>\n",
       "    <tr>\n",
       "      <th>count.atm.youku.com</th>\n",
       "      <td>14967</td>\n",
       "      <td>14967</td>\n",
       "      <td>14967</td>\n",
       "      <td>14967</td>\n",
       "      <td>14967</td>\n",
       "      <td>14967</td>\n",
       "      <td>14967</td>\n",
       "      <td>14967</td>\n",
       "      <td>14967</td>\n",
       "    </tr>\n",
       "    <tr>\n",
       "      <th>user-mobile.youku.com</th>\n",
       "      <td>13201</td>\n",
       "      <td>13201</td>\n",
       "      <td>13201</td>\n",
       "      <td>13201</td>\n",
       "      <td>13201</td>\n",
       "      <td>13201</td>\n",
       "      <td>13201</td>\n",
       "      <td>13201</td>\n",
       "      <td>13201</td>\n",
       "    </tr>\n",
       "  </tbody>\n",
       "</table>\n",
       "</div>"
      ],
      "text/plain": [
       "                            url    time  scheme    path  params  query1  \\\n",
       "domain                                                                    \n",
       "statis.api.3g.youku.com  112187  112187  112187  112187  112187  112187   \n",
       "api.mobile.youku.com      85089   85089   85089   85089   85089   85089   \n",
       "k.youku.com               28238   28238   28238   28238   28238   28238   \n",
       "count.atm.youku.com       14967   14967   14967   14967   14967   14967   \n",
       "user-mobile.youku.com     13201   13201   13201   13201   13201   13201   \n",
       "\n",
       "                         fragment  secondary_domain   valid  \n",
       "domain                                                       \n",
       "statis.api.3g.youku.com    112187            112187  112187  \n",
       "api.mobile.youku.com        85089             85089   85089  \n",
       "k.youku.com                 28238             28238   28238  \n",
       "count.atm.youku.com         14967             14967   14967  \n",
       "user-mobile.youku.com       13201             13201   13201  "
      ]
     },
     "execution_count": 55,
     "metadata": {},
     "output_type": "execute_result"
    }
   ],
   "source": [
    "youku.groupby('domain').count().sort_values('url',ascending=False).head(5)"
   ]
  },
  {
   "cell_type": "markdown",
   "metadata": {},
   "source": [
    "### 对访问量较大的20个域名进行筛选\n",
    "\n",
    "\n",
    "> 以下结果均是访问对应url（不是直接访问domain）得到的结果\n",
    "\n",
    "+ statis.api.3g.youku.com 无响应\n",
    "+ api.mobile.youku.com 返回无用json\n",
    "+ k.youku.com 出错\n",
    "+ count.atm.youku.com 无响应\n",
    "+ user-mobile.youku.com 出错\n",
    "+ push.m.youku.com 出错\n",
    "+ v.l.youku.com 出错\n",
    "+ val.atm.youku.com 无响应\n",
    "+ das.api.mobile.youku.com 出错\n",
    "+ p.l.youku.com 出错\n",
    "+ stat.youku.com 无用"
   ]
  },
  {
   "cell_type": "code",
   "execution_count": 66,
   "metadata": {},
   "outputs": [
    {
     "name": "stdout",
     "output_type": "stream",
     "text": [
      "youku: 419403\n",
      "youku_video1: 2983\n",
      "youku_video2: 328\n",
      "youku_video: 3311\n",
      "valid id: 2113\n"
     ]
    }
   ],
   "source": [
    "#-------------------------invalid--------------------------\n",
    "# http://3g.youku.com/ invalid\n",
    "# http://4g.youku.com/  -->http://err.taobao.com invalid\n",
    "# http://ad.api.3g.youku.com  - ads!!!!!!!!!!!!!\n",
    "\n",
    "#------------------------valid--------------------------\n",
    "# video itself http://v.youku.com/v_show/id_XMTkyODgxMTYwMA==.html \n",
    "# video danmu  http://p.l.youku.com/interact?type=show&tcode=plugin&stype=2&ptype=note&pid=104213&vid=XOTI5MTc3Mzk2&ext=device%3D2%26anywhere_type%3D1%26is_anywhere%3D1%26sub_wintype%3D0%26platform%3D10%26lib_channel_id%3D16261163&turl=http://v.youku.com/v_show/id_XMTQ0NTQ0NDYyNA==.html&wintype=112&rurl=http%3A%2F%2Fhudong.pl.youku.com%2Fv%2FtimelineH5ForAppCard%3FvideoId%3DXOTI5MTc3Mzk2%26plugin_id%3D0%26ybhpss%3Dcntid%253DXOTI5MTc3Mzk2%2526typeid%253D2%2526cpid%253D16261163%2526puid%253D%2526pguid%253D6d67976f232b8b39700816217bf3552e%2526horizon%253D0%2526page%253Dyouku_card%2526label%253Dcard_click%2526utdid%253DV8A12usaX%252BoDAFK6%252FnIQBD3g%2526token%253Dc192cb2102f8a3ef5bcab172cbe16051\n",
    "\n",
    "\n",
    "print('youku:',len(youku))\n",
    "\n",
    "youku_video1 = youku.loc[(youku.domain=='v.youku.com') & (youku.path.apply(lambda x : True if re.match(r'/v_show/id_[^\\.]+.html',x) is not None else False))]\n",
    "youku_video2 = youku.loc[(youku.domain=='p.l.youku.com') & (youku.query1.apply(lambda x: True if len(re.findall(r'http://v.youku.com/v_show/id_[^\\.]+.html',x))>0 else False ))]\n",
    "print('youku_video1:',len(youku_video1))\n",
    "print('youku_video2:',len(youku_video2))\n",
    "\n",
    "youku_video = pd.concat([youku_video1,youku_video2])\n",
    "\n",
    "print('youku_video:',len(youku_video))\n",
    "youku_video['id'] = youku_video.url.apply(lambda x: re.findall(r'(?<=id_)[^\\.]+',x)[0])\n",
    "youku_video.loc[:,['id','url','time']].to_csv('raw_data/youku_id.csv',index=False,header=None)\n",
    "\n",
    "youku_id = set(youku_video.id)\n",
    "print('valid id:',len(youku_id))\n",
    "with open('youku_unique_id.txt','w') as F:\n",
    "    for item in youku_id:\n",
    "        F.write(item+'\\n')"
   ]
  },
  {
   "cell_type": "markdown",
   "metadata": {
    "collapsed": true
   },
   "source": [
    "## iqiyi information"
   ]
  },
  {
   "cell_type": "code",
   "execution_count": 58,
   "metadata": {
    "scrolled": true
   },
   "outputs": [
    {
     "name": "stdout",
     "output_type": "stream",
     "text": [
      "iqiyi:  124\n"
     ]
    }
   ],
   "source": [
    "iqiyi = data.loc[data.domain.apply(lambda x: 'iqiyi.com' in x)]\n",
    "iqiyi = copy.deepcopy(iqiyi)\n",
    "print('iqiyi: ',len(iqiyi.groupby('domain')))"
   ]
  },
  {
   "cell_type": "code",
   "execution_count": 57,
   "metadata": {},
   "outputs": [
    {
     "data": {
      "text/html": [
       "<div>\n",
       "<table border=\"1\" class=\"dataframe\">\n",
       "  <thead>\n",
       "    <tr style=\"text-align: right;\">\n",
       "      <th></th>\n",
       "      <th>url</th>\n",
       "      <th>time</th>\n",
       "      <th>scheme</th>\n",
       "      <th>path</th>\n",
       "      <th>params</th>\n",
       "      <th>query1</th>\n",
       "      <th>fragment</th>\n",
       "      <th>secondary_domain</th>\n",
       "      <th>valid</th>\n",
       "    </tr>\n",
       "    <tr>\n",
       "      <th>domain</th>\n",
       "      <th></th>\n",
       "      <th></th>\n",
       "      <th></th>\n",
       "      <th></th>\n",
       "      <th></th>\n",
       "      <th></th>\n",
       "      <th></th>\n",
       "      <th></th>\n",
       "      <th></th>\n",
       "    </tr>\n",
       "  </thead>\n",
       "  <tbody>\n",
       "    <tr>\n",
       "      <th>policy.video.iqiyi.com</th>\n",
       "      <td>45984</td>\n",
       "      <td>45984</td>\n",
       "      <td>45984</td>\n",
       "      <td>45984</td>\n",
       "      <td>45984</td>\n",
       "      <td>45984</td>\n",
       "      <td>45984</td>\n",
       "      <td>45984</td>\n",
       "      <td>45984</td>\n",
       "    </tr>\n",
       "    <tr>\n",
       "      <th>mbdlog.iqiyi.com</th>\n",
       "      <td>40131</td>\n",
       "      <td>40131</td>\n",
       "      <td>40131</td>\n",
       "      <td>40131</td>\n",
       "      <td>40131</td>\n",
       "      <td>40131</td>\n",
       "      <td>40131</td>\n",
       "      <td>40131</td>\n",
       "      <td>40131</td>\n",
       "    </tr>\n",
       "    <tr>\n",
       "      <th>pdata.video.iqiyi.com</th>\n",
       "      <td>40109</td>\n",
       "      <td>40109</td>\n",
       "      <td>40109</td>\n",
       "      <td>40109</td>\n",
       "      <td>40109</td>\n",
       "      <td>40109</td>\n",
       "      <td>40109</td>\n",
       "      <td>40109</td>\n",
       "      <td>40109</td>\n",
       "    </tr>\n",
       "    <tr>\n",
       "      <th>msg.iqiyi.com</th>\n",
       "      <td>38704</td>\n",
       "      <td>38704</td>\n",
       "      <td>38704</td>\n",
       "      <td>38704</td>\n",
       "      <td>38704</td>\n",
       "      <td>38704</td>\n",
       "      <td>38704</td>\n",
       "      <td>38704</td>\n",
       "      <td>38704</td>\n",
       "    </tr>\n",
       "    <tr>\n",
       "      <th>iface2.iqiyi.com</th>\n",
       "      <td>31657</td>\n",
       "      <td>31657</td>\n",
       "      <td>31657</td>\n",
       "      <td>31657</td>\n",
       "      <td>31657</td>\n",
       "      <td>31657</td>\n",
       "      <td>31657</td>\n",
       "      <td>31657</td>\n",
       "      <td>31657</td>\n",
       "    </tr>\n",
       "  </tbody>\n",
       "</table>\n",
       "</div>"
      ],
      "text/plain": [
       "                          url   time  scheme   path  params  query1  fragment  \\\n",
       "domain                                                                          \n",
       "policy.video.iqiyi.com  45984  45984   45984  45984   45984   45984     45984   \n",
       "mbdlog.iqiyi.com        40131  40131   40131  40131   40131   40131     40131   \n",
       "pdata.video.iqiyi.com   40109  40109   40109  40109   40109   40109     40109   \n",
       "msg.iqiyi.com           38704  38704   38704  38704   38704   38704     38704   \n",
       "iface2.iqiyi.com        31657  31657   31657  31657   31657   31657     31657   \n",
       "\n",
       "                        secondary_domain  valid  \n",
       "domain                                           \n",
       "policy.video.iqiyi.com             45984  45984  \n",
       "mbdlog.iqiyi.com                   40131  40131  \n",
       "pdata.video.iqiyi.com              40109  40109  \n",
       "msg.iqiyi.com                      38704  38704  \n",
       "iface2.iqiyi.com                   31657  31657  "
      ]
     },
     "execution_count": 57,
     "metadata": {},
     "output_type": "execute_result"
    }
   ],
   "source": [
    "iqiyi.groupby('domain').count().sort_values('url',ascending=False).head(5)"
   ]
  },
  {
   "cell_type": "markdown",
   "metadata": {
    "collapsed": true
   },
   "source": [
    "> 以下结果均是访问对应url（不是直接访问domain）得到的结果\n",
    "\n",
    "+ policy.video.iqiyi.com 返回一个奇怪的东西\n",
    "+ mbdlog.iqiyi.com 无响应\n",
    "+ pdata.video.iqiyi.com 奇怪的东西\n",
    "+ msg.iqiyi.com 无响应\n",
    "+ iface2.iqiyi.com 无响应\n",
    "+ data.video.iqiyi.com \t奇怪的东西\n",
    "+ msga.cupid.iqiyi.com  奇怪的东西\n",
    "+ ifacelog.iqiyi.com 返回 OK？\n",
    "+ cmonitor.iqiyi.com 返回奇怪的东西\n",
    "+ l.rcd.iqiyi.com 页面出错&不安全？？？\n",
    "+ subscription.iqiyi.com 没用\n",
    "+ puma.api.iqiyi.com 没用\n",
    "+ pb.im.iqiyi.com 服务器返回:An error occurred.\n",
    "+ t7z.cupid.iqiyi.com 出错\n",
    "+ cmts.iqiyi.com 502\n",
    "+ **m.iqiyi.com 手机端视频首页！**\n",
    "+ cache.m.iqiyi.com 手机缓存，打开后是一个下载页233\n",
    "+ up.video.iqiyi.com 奇怪的结果\n",
    "+ **www.iqiyi.com PC端视频首页 **"
   ]
  },
  {
   "cell_type": "code",
   "execution_count": 59,
   "metadata": {
    "collapsed": true
   },
   "outputs": [],
   "source": [
    "# mobile\n",
    "# zongyi 7        ignore\n",
    "# yinyue 5        ignore\n",
    "# a_     23       ignore\n",
    "# weidianying 1   ignore\n",
    "# lib    15       ignore\n",
    "# *.swf           ignore\n",
    "# /common         ignore\n",
    "\n",
    "# iqiyi1 = iqiyi.loc[(iqiyi.domain=='m.iqiyi.com') & (iqiyi.path.apply(lambda x:True if re.match(r'/lib',x) is None else False))]\n",
    "# iqiyi1"
   ]
  },
  {
   "cell_type": "code",
   "execution_count": 67,
   "metadata": {},
   "outputs": [
    {
     "name": "stdout",
     "output_type": "stream",
     "text": [
      "iqiyi video1: 205\n",
      "iqiyi video2: 688\n",
      "iqiyi video: 893\n"
     ]
    }
   ],
   "source": [
    "iqiyi_video1 = iqiyi.loc[(iqiyi.domain=='www.iqiyi.com') & (iqiyi.path.apply(lambda x: True if  re.match(r'/(w|v)_[^.]+.html',x) is not None else False ))]\n",
    "iqiyi_video2 = iqiyi.loc[(iqiyi.domain=='m.iqiyi.com') & (iqiyi.path.apply(lambda x: True if  re.match(r'/(w|v)_[^.]+.html',x) is not None else False ))]\n",
    "print('iqiyi video1:',len(iqiyi_video1))\n",
    "print('iqiyi video2:',len(iqiyi_video2))\n",
    "\n",
    "iqiyi_video =pd.concat([iqiyi_video1,iqiyi_video2])\n",
    "print('iqiyi video:',len(iqiyi_video))\n",
    "\n",
    "iqiyi_video['id'] = iqiyi_video.path.apply(lambda x: re.search(r'/(w|v)\\_[^.]+',x).group(0))\n",
    "iqiyi_video.loc[:,['id','url','time']].to_csv('raw_data/iqiyi_id.csv',index=False,header=None)\n",
    "\n",
    "iqiyi_id = set(iqiyi_video.id)\n",
    "\n",
    "with open('qiyi_unique_id.txt','w') as F:\n",
    "    for item in iqiyi_id:\n",
    "        F.write(item+'\\n')"
   ]
  },
  {
   "cell_type": "code",
   "execution_count": 64,
   "metadata": {
    "collapsed": true
   },
   "outputs": [],
   "source": [
    "sns.sca"
   ]
  },
  {
   "cell_type": "code",
   "execution_count": null,
   "metadata": {
    "collapsed": true
   },
   "outputs": [],
   "source": []
  }
 ],
 "metadata": {
  "kernelspec": {
   "display_name": "Python 3",
   "language": "python",
   "name": "python3"
  },
  "language_info": {
   "codemirror_mode": {
    "name": "ipython",
    "version": 3
   },
   "file_extension": ".py",
   "mimetype": "text/x-python",
   "name": "python",
   "nbconvert_exporter": "python",
   "pygments_lexer": "ipython3",
   "version": "3.5.2"
  }
 },
 "nbformat": 4,
 "nbformat_minor": 2
}
